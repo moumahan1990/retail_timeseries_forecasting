{
  "nbformat": 4,
  "nbformat_minor": 0,
  "metadata": {
    "kernelspec": {
      "display_name": "Python 3",
      "language": "python",
      "name": "python3"
    },
    "language_info": {
      "codemirror_mode": {
        "name": "ipython",
        "version": 3
      },
      "file_extension": ".py",
      "mimetype": "text/x-python",
      "name": "python",
      "nbconvert_exporter": "python",
      "pygments_lexer": "ipython3",
      "version": "3.7.4"
    },
    "colab": {
      "name": "RNN_Model.ipynb",
      "provenance": [],
      "include_colab_link": true
    }
  },
  "cells": [
    {
      "cell_type": "markdown",
      "metadata": {
        "id": "view-in-github",
        "colab_type": "text"
      },
      "source": [
        "<a href=\"https://colab.research.google.com/github/moumahan1990/retail_timeseries_forecasting/blob/master/RNN_Model.ipynb\" target=\"_parent\"><img src=\"https://colab.research.google.com/assets/colab-badge.svg\" alt=\"Open In Colab\"/></a>"
      ]
    },
    {
      "cell_type": "code",
      "metadata": {
        "id": "IYQm-26ipqsl",
        "colab_type": "code",
        "outputId": "fd42425d-4aee-4c4c-f4d8-a4a7e180e3f0",
        "colab": {
          "base_uri": "https://localhost:8080/",
          "height": 765
        }
      },
      "source": [
        "!pip install tensorflow==1.12.0\n",
        "import tensorflow as tf\n",
        "print(tf.__version__)"
      ],
      "execution_count": 1,
      "outputs": [
        {
          "output_type": "stream",
          "text": [
            "Collecting tensorflow==1.12.0\n",
            "\u001b[?25l  Downloading https://files.pythonhosted.org/packages/22/cc/ca70b78087015d21c5f3f93694107f34ebccb3be9624385a911d4b52ecef/tensorflow-1.12.0-cp36-cp36m-manylinux1_x86_64.whl (83.1MB)\n",
            "\u001b[K     |████████████████████████████████| 83.1MB 69kB/s \n",
            "\u001b[?25hRequirement already satisfied: astor>=0.6.0 in /usr/local/lib/python3.6/dist-packages (from tensorflow==1.12.0) (0.8.1)\n",
            "Requirement already satisfied: protobuf>=3.6.1 in /usr/local/lib/python3.6/dist-packages (from tensorflow==1.12.0) (3.10.0)\n",
            "Requirement already satisfied: wheel>=0.26 in /usr/local/lib/python3.6/dist-packages (from tensorflow==1.12.0) (0.34.2)\n",
            "Requirement already satisfied: six>=1.10.0 in /usr/local/lib/python3.6/dist-packages (from tensorflow==1.12.0) (1.12.0)\n",
            "Requirement already satisfied: keras-preprocessing>=1.0.5 in /usr/local/lib/python3.6/dist-packages (from tensorflow==1.12.0) (1.1.0)\n",
            "Requirement already satisfied: grpcio>=1.8.6 in /usr/local/lib/python3.6/dist-packages (from tensorflow==1.12.0) (1.28.1)\n",
            "Requirement already satisfied: absl-py>=0.1.6 in /usr/local/lib/python3.6/dist-packages (from tensorflow==1.12.0) (0.9.0)\n",
            "Requirement already satisfied: numpy>=1.13.3 in /usr/local/lib/python3.6/dist-packages (from tensorflow==1.12.0) (1.18.2)\n",
            "Requirement already satisfied: gast>=0.2.0 in /usr/local/lib/python3.6/dist-packages (from tensorflow==1.12.0) (0.3.3)\n",
            "Collecting tensorboard<1.13.0,>=1.12.0\n",
            "\u001b[?25l  Downloading https://files.pythonhosted.org/packages/07/53/8d32ce9471c18f8d99028b7cef2e5b39ea8765bd7ef250ca05b490880971/tensorboard-1.12.2-py3-none-any.whl (3.0MB)\n",
            "\u001b[K     |████████████████████████████████| 3.1MB 47.1MB/s \n",
            "\u001b[?25hRequirement already satisfied: termcolor>=1.1.0 in /usr/local/lib/python3.6/dist-packages (from tensorflow==1.12.0) (1.1.0)\n",
            "Requirement already satisfied: keras-applications>=1.0.6 in /usr/local/lib/python3.6/dist-packages (from tensorflow==1.12.0) (1.0.8)\n",
            "Requirement already satisfied: setuptools in /usr/local/lib/python3.6/dist-packages (from protobuf>=3.6.1->tensorflow==1.12.0) (46.1.3)\n",
            "Requirement already satisfied: werkzeug>=0.11.10 in /usr/local/lib/python3.6/dist-packages (from tensorboard<1.13.0,>=1.12.0->tensorflow==1.12.0) (1.0.1)\n",
            "Requirement already satisfied: markdown>=2.6.8 in /usr/local/lib/python3.6/dist-packages (from tensorboard<1.13.0,>=1.12.0->tensorflow==1.12.0) (3.2.1)\n",
            "Requirement already satisfied: h5py in /usr/local/lib/python3.6/dist-packages (from keras-applications>=1.0.6->tensorflow==1.12.0) (2.10.0)\n",
            "Installing collected packages: tensorboard, tensorflow\n",
            "  Found existing installation: tensorboard 2.2.1\n",
            "    Uninstalling tensorboard-2.2.1:\n",
            "      Successfully uninstalled tensorboard-2.2.1\n",
            "  Found existing installation: tensorflow 2.2.0rc3\n",
            "    Uninstalling tensorflow-2.2.0rc3:\n",
            "      Successfully uninstalled tensorflow-2.2.0rc3\n",
            "Successfully installed tensorboard-1.12.2 tensorflow-1.12.0\n"
          ],
          "name": "stdout"
        },
        {
          "output_type": "stream",
          "text": [
            "/usr/local/lib/python3.6/dist-packages/tensorflow/python/framework/dtypes.py:523: FutureWarning: Passing (type, 1) or '1type' as a synonym of type is deprecated; in a future version of numpy, it will be understood as (type, (1,)) / '(1,)type'.\n",
            "  _np_qint8 = np.dtype([(\"qint8\", np.int8, 1)])\n",
            "/usr/local/lib/python3.6/dist-packages/tensorflow/python/framework/dtypes.py:524: FutureWarning: Passing (type, 1) or '1type' as a synonym of type is deprecated; in a future version of numpy, it will be understood as (type, (1,)) / '(1,)type'.\n",
            "  _np_quint8 = np.dtype([(\"quint8\", np.uint8, 1)])\n",
            "/usr/local/lib/python3.6/dist-packages/tensorflow/python/framework/dtypes.py:525: FutureWarning: Passing (type, 1) or '1type' as a synonym of type is deprecated; in a future version of numpy, it will be understood as (type, (1,)) / '(1,)type'.\n",
            "  _np_qint16 = np.dtype([(\"qint16\", np.int16, 1)])\n",
            "/usr/local/lib/python3.6/dist-packages/tensorflow/python/framework/dtypes.py:526: FutureWarning: Passing (type, 1) or '1type' as a synonym of type is deprecated; in a future version of numpy, it will be understood as (type, (1,)) / '(1,)type'.\n",
            "  _np_quint16 = np.dtype([(\"quint16\", np.uint16, 1)])\n",
            "/usr/local/lib/python3.6/dist-packages/tensorflow/python/framework/dtypes.py:527: FutureWarning: Passing (type, 1) or '1type' as a synonym of type is deprecated; in a future version of numpy, it will be understood as (type, (1,)) / '(1,)type'.\n",
            "  _np_qint32 = np.dtype([(\"qint32\", np.int32, 1)])\n",
            "/usr/local/lib/python3.6/dist-packages/tensorflow/python/framework/dtypes.py:532: FutureWarning: Passing (type, 1) or '1type' as a synonym of type is deprecated; in a future version of numpy, it will be understood as (type, (1,)) / '(1,)type'.\n",
            "  np_resource = np.dtype([(\"resource\", np.ubyte, 1)])\n"
          ],
          "name": "stderr"
        },
        {
          "output_type": "stream",
          "text": [
            "1.12.0\n"
          ],
          "name": "stdout"
        }
      ]
    },
    {
      "cell_type": "code",
      "metadata": {
        "id": "O2vUESgreEB2",
        "colab_type": "code",
        "colab": {}
      },
      "source": [
        "import warnings\n",
        "warnings.filterwarnings(\"ignore\")\n",
        "\n",
        "# loading packages\n",
        "# basic + dates \n",
        "import numpy as np\n",
        "import pandas as pd\n",
        "from pandas import datetime\n",
        "\n",
        "# data visualization\n",
        "import matplotlib.pyplot as plt\n",
        "import seaborn as sns # advanced vizs\n",
        "%matplotlib inline\n",
        "import pandas as pd;\n",
        "import matplotlib.pyplot as plt\n",
        "from numpy import array\n",
        "from numpy import hstack\n",
        "from tensorflow.keras.models import Sequential\n",
        "from tensorflow.keras.layers import Dense,LSTM,RNN, SimpleRNN \n",
        "from tensorflow.keras.preprocessing.sequence import TimeseriesGenerator\n",
        "from tensorflow.keras.layers import Dropout\n",
        "from tensorflow.keras.optimizers import Adam,RMSprop\n",
        "from tensorflow.keras.layers import Activation\n",
        "from tensorflow.keras.callbacks import LambdaCallback\n",
        "from sklearn.preprocessing import MinMaxScaler"
      ],
      "execution_count": 0,
      "outputs": []
    },
    {
      "cell_type": "code",
      "metadata": {
        "id": "XbUMCXUAeEB8",
        "colab_type": "code",
        "colab": {}
      },
      "source": [
        "train = pd.read_csv(\"https://raw.githubusercontent.com/moumahan1990/retail_timeseries_forecasting/master/datasets/train.csv\", \n",
        "                    parse_dates = True, low_memory = False, index_col = 'Date')\n",
        "# additional store data\n",
        "store = pd.read_csv(\"https://raw.githubusercontent.com/moumahan1990/retail_timeseries_forecasting/master/datasets/store.csv\",low_memory = False)"
      ],
      "execution_count": 0,
      "outputs": []
    },
    {
      "cell_type": "code",
      "metadata": {
        "id": "dle8VtZkeEB_",
        "colab_type": "code",
        "outputId": "5f94494e-24d2-4c8f-f578-b05c39a2414e",
        "colab": {
          "base_uri": "https://localhost:8080/",
          "height": 230
        }
      },
      "source": [
        "train.head()"
      ],
      "execution_count": 0,
      "outputs": [
        {
          "output_type": "execute_result",
          "data": {
            "text/html": [
              "<div>\n",
              "<style scoped>\n",
              "    .dataframe tbody tr th:only-of-type {\n",
              "        vertical-align: middle;\n",
              "    }\n",
              "\n",
              "    .dataframe tbody tr th {\n",
              "        vertical-align: top;\n",
              "    }\n",
              "\n",
              "    .dataframe thead th {\n",
              "        text-align: right;\n",
              "    }\n",
              "</style>\n",
              "<table border=\"1\" class=\"dataframe\">\n",
              "  <thead>\n",
              "    <tr style=\"text-align: right;\">\n",
              "      <th></th>\n",
              "      <th>Store</th>\n",
              "      <th>DayOfWeek</th>\n",
              "      <th>Sales</th>\n",
              "      <th>Customers</th>\n",
              "      <th>Open</th>\n",
              "      <th>Promo</th>\n",
              "      <th>StateHoliday</th>\n",
              "      <th>SchoolHoliday</th>\n",
              "    </tr>\n",
              "    <tr>\n",
              "      <th>Date</th>\n",
              "      <th></th>\n",
              "      <th></th>\n",
              "      <th></th>\n",
              "      <th></th>\n",
              "      <th></th>\n",
              "      <th></th>\n",
              "      <th></th>\n",
              "      <th></th>\n",
              "    </tr>\n",
              "  </thead>\n",
              "  <tbody>\n",
              "    <tr>\n",
              "      <th>2015-07-31</th>\n",
              "      <td>1</td>\n",
              "      <td>5</td>\n",
              "      <td>5263</td>\n",
              "      <td>555</td>\n",
              "      <td>1</td>\n",
              "      <td>1</td>\n",
              "      <td>0</td>\n",
              "      <td>1</td>\n",
              "    </tr>\n",
              "    <tr>\n",
              "      <th>2015-07-31</th>\n",
              "      <td>2</td>\n",
              "      <td>5</td>\n",
              "      <td>6064</td>\n",
              "      <td>625</td>\n",
              "      <td>1</td>\n",
              "      <td>1</td>\n",
              "      <td>0</td>\n",
              "      <td>1</td>\n",
              "    </tr>\n",
              "    <tr>\n",
              "      <th>2015-07-31</th>\n",
              "      <td>3</td>\n",
              "      <td>5</td>\n",
              "      <td>8314</td>\n",
              "      <td>821</td>\n",
              "      <td>1</td>\n",
              "      <td>1</td>\n",
              "      <td>0</td>\n",
              "      <td>1</td>\n",
              "    </tr>\n",
              "    <tr>\n",
              "      <th>2015-07-31</th>\n",
              "      <td>4</td>\n",
              "      <td>5</td>\n",
              "      <td>13995</td>\n",
              "      <td>1498</td>\n",
              "      <td>1</td>\n",
              "      <td>1</td>\n",
              "      <td>0</td>\n",
              "      <td>1</td>\n",
              "    </tr>\n",
              "    <tr>\n",
              "      <th>2015-07-31</th>\n",
              "      <td>5</td>\n",
              "      <td>5</td>\n",
              "      <td>4822</td>\n",
              "      <td>559</td>\n",
              "      <td>1</td>\n",
              "      <td>1</td>\n",
              "      <td>0</td>\n",
              "      <td>1</td>\n",
              "    </tr>\n",
              "  </tbody>\n",
              "</table>\n",
              "</div>"
            ],
            "text/plain": [
              "            Store  DayOfWeek  Sales  ...  Promo  StateHoliday  SchoolHoliday\n",
              "Date                                 ...                                    \n",
              "2015-07-31      1          5   5263  ...      1             0              1\n",
              "2015-07-31      2          5   6064  ...      1             0              1\n",
              "2015-07-31      3          5   8314  ...      1             0              1\n",
              "2015-07-31      4          5  13995  ...      1             0              1\n",
              "2015-07-31      5          5   4822  ...      1             0              1\n",
              "\n",
              "[5 rows x 8 columns]"
            ]
          },
          "metadata": {
            "tags": []
          },
          "execution_count": 147
        }
      ]
    },
    {
      "cell_type": "code",
      "metadata": {
        "id": "AqFCNI0seECF",
        "colab_type": "code",
        "outputId": "9e6e0ee4-babf-4e0f-becb-38fbb30d9fbc",
        "colab": {
          "base_uri": "https://localhost:8080/",
          "height": 200
        }
      },
      "source": [
        "store.head()"
      ],
      "execution_count": 0,
      "outputs": [
        {
          "output_type": "execute_result",
          "data": {
            "text/html": [
              "<div>\n",
              "<style scoped>\n",
              "    .dataframe tbody tr th:only-of-type {\n",
              "        vertical-align: middle;\n",
              "    }\n",
              "\n",
              "    .dataframe tbody tr th {\n",
              "        vertical-align: top;\n",
              "    }\n",
              "\n",
              "    .dataframe thead th {\n",
              "        text-align: right;\n",
              "    }\n",
              "</style>\n",
              "<table border=\"1\" class=\"dataframe\">\n",
              "  <thead>\n",
              "    <tr style=\"text-align: right;\">\n",
              "      <th></th>\n",
              "      <th>Store</th>\n",
              "      <th>StoreType</th>\n",
              "      <th>Assortment</th>\n",
              "      <th>CompetitionDistance</th>\n",
              "      <th>CompetitionOpenSinceMonth</th>\n",
              "      <th>CompetitionOpenSinceYear</th>\n",
              "      <th>Promo2</th>\n",
              "      <th>Promo2SinceWeek</th>\n",
              "      <th>Promo2SinceYear</th>\n",
              "      <th>PromoInterval</th>\n",
              "    </tr>\n",
              "  </thead>\n",
              "  <tbody>\n",
              "    <tr>\n",
              "      <th>0</th>\n",
              "      <td>1</td>\n",
              "      <td>c</td>\n",
              "      <td>a</td>\n",
              "      <td>1270.0</td>\n",
              "      <td>9.0</td>\n",
              "      <td>2008.0</td>\n",
              "      <td>0</td>\n",
              "      <td>NaN</td>\n",
              "      <td>NaN</td>\n",
              "      <td>NaN</td>\n",
              "    </tr>\n",
              "    <tr>\n",
              "      <th>1</th>\n",
              "      <td>2</td>\n",
              "      <td>a</td>\n",
              "      <td>a</td>\n",
              "      <td>570.0</td>\n",
              "      <td>11.0</td>\n",
              "      <td>2007.0</td>\n",
              "      <td>1</td>\n",
              "      <td>13.0</td>\n",
              "      <td>2010.0</td>\n",
              "      <td>Jan,Apr,Jul,Oct</td>\n",
              "    </tr>\n",
              "    <tr>\n",
              "      <th>2</th>\n",
              "      <td>3</td>\n",
              "      <td>a</td>\n",
              "      <td>a</td>\n",
              "      <td>14130.0</td>\n",
              "      <td>12.0</td>\n",
              "      <td>2006.0</td>\n",
              "      <td>1</td>\n",
              "      <td>14.0</td>\n",
              "      <td>2011.0</td>\n",
              "      <td>Jan,Apr,Jul,Oct</td>\n",
              "    </tr>\n",
              "    <tr>\n",
              "      <th>3</th>\n",
              "      <td>4</td>\n",
              "      <td>c</td>\n",
              "      <td>c</td>\n",
              "      <td>620.0</td>\n",
              "      <td>9.0</td>\n",
              "      <td>2009.0</td>\n",
              "      <td>0</td>\n",
              "      <td>NaN</td>\n",
              "      <td>NaN</td>\n",
              "      <td>NaN</td>\n",
              "    </tr>\n",
              "    <tr>\n",
              "      <th>4</th>\n",
              "      <td>5</td>\n",
              "      <td>a</td>\n",
              "      <td>a</td>\n",
              "      <td>29910.0</td>\n",
              "      <td>4.0</td>\n",
              "      <td>2015.0</td>\n",
              "      <td>0</td>\n",
              "      <td>NaN</td>\n",
              "      <td>NaN</td>\n",
              "      <td>NaN</td>\n",
              "    </tr>\n",
              "  </tbody>\n",
              "</table>\n",
              "</div>"
            ],
            "text/plain": [
              "   Store StoreType  ... Promo2SinceYear    PromoInterval\n",
              "0      1         c  ...             NaN              NaN\n",
              "1      2         a  ...          2010.0  Jan,Apr,Jul,Oct\n",
              "2      3         a  ...          2011.0  Jan,Apr,Jul,Oct\n",
              "3      4         c  ...             NaN              NaN\n",
              "4      5         a  ...             NaN              NaN\n",
              "\n",
              "[5 rows x 10 columns]"
            ]
          },
          "metadata": {
            "tags": []
          },
          "execution_count": 148
        }
      ]
    },
    {
      "cell_type": "code",
      "metadata": {
        "id": "0EdliROeeECJ",
        "colab_type": "code",
        "outputId": "93ad7f84-8008-48a0-f2be-db4124f86377",
        "colab": {
          "base_uri": "https://localhost:8080/",
          "height": 173
        }
      },
      "source": [
        "# Creating new features from date \n",
        "train['Year'] = train.index.year\n",
        "train['Month'] = train.index.month\n",
        "train['Day'] = train.index.day\n",
        "train['WeekOfYear'] = train.index.weekofyear\n",
        "\n",
        "# adding new variable\n",
        "train['SalePerCustomer'] = train['Sales']/train['Customers']\n",
        "train['SalePerCustomer'].describe()"
      ],
      "execution_count": 4,
      "outputs": [
        {
          "output_type": "execute_result",
          "data": {
            "text/plain": [
              "count    844340.000000\n",
              "mean          9.493619\n",
              "std           2.197494\n",
              "min           0.000000\n",
              "25%           7.895563\n",
              "50%           9.250000\n",
              "75%          10.899729\n",
              "max          64.957854\n",
              "Name: SalePerCustomer, dtype: float64"
            ]
          },
          "metadata": {
            "tags": []
          },
          "execution_count": 4
        }
      ]
    },
    {
      "cell_type": "code",
      "metadata": {
        "id": "WVkmcuMKeECM",
        "colab_type": "code",
        "outputId": "0042fbd0-ea10-4534-b8a5-ad0e5f077594",
        "colab": {
          "base_uri": "https://localhost:8080/",
          "height": 233
        }
      },
      "source": [
        "# Filtering out stores which are closed and has zero sales\n",
        "train_data = train[train.Store == 1]\n",
        "train_data = train_data[(train_data[\"Open\"] != 0) & (train_data['Sales'] != 0)]\n",
        "train_data=train_data.sort_index()\n",
        "train_data=train_data.fillna(0)\n",
        "train_data.head()"
      ],
      "execution_count": 5,
      "outputs": [
        {
          "output_type": "execute_result",
          "data": {
            "text/html": [
              "<div>\n",
              "<style scoped>\n",
              "    .dataframe tbody tr th:only-of-type {\n",
              "        vertical-align: middle;\n",
              "    }\n",
              "\n",
              "    .dataframe tbody tr th {\n",
              "        vertical-align: top;\n",
              "    }\n",
              "\n",
              "    .dataframe thead th {\n",
              "        text-align: right;\n",
              "    }\n",
              "</style>\n",
              "<table border=\"1\" class=\"dataframe\">\n",
              "  <thead>\n",
              "    <tr style=\"text-align: right;\">\n",
              "      <th></th>\n",
              "      <th>Store</th>\n",
              "      <th>DayOfWeek</th>\n",
              "      <th>Sales</th>\n",
              "      <th>Customers</th>\n",
              "      <th>Open</th>\n",
              "      <th>Promo</th>\n",
              "      <th>StateHoliday</th>\n",
              "      <th>SchoolHoliday</th>\n",
              "      <th>Year</th>\n",
              "      <th>Month</th>\n",
              "      <th>Day</th>\n",
              "      <th>WeekOfYear</th>\n",
              "      <th>SalePerCustomer</th>\n",
              "    </tr>\n",
              "    <tr>\n",
              "      <th>Date</th>\n",
              "      <th></th>\n",
              "      <th></th>\n",
              "      <th></th>\n",
              "      <th></th>\n",
              "      <th></th>\n",
              "      <th></th>\n",
              "      <th></th>\n",
              "      <th></th>\n",
              "      <th></th>\n",
              "      <th></th>\n",
              "      <th></th>\n",
              "      <th></th>\n",
              "      <th></th>\n",
              "    </tr>\n",
              "  </thead>\n",
              "  <tbody>\n",
              "    <tr>\n",
              "      <th>2013-01-02</th>\n",
              "      <td>1</td>\n",
              "      <td>3</td>\n",
              "      <td>5530</td>\n",
              "      <td>668</td>\n",
              "      <td>1</td>\n",
              "      <td>0</td>\n",
              "      <td>0</td>\n",
              "      <td>1</td>\n",
              "      <td>2013</td>\n",
              "      <td>1</td>\n",
              "      <td>2</td>\n",
              "      <td>1</td>\n",
              "      <td>8.278443</td>\n",
              "    </tr>\n",
              "    <tr>\n",
              "      <th>2013-01-03</th>\n",
              "      <td>1</td>\n",
              "      <td>4</td>\n",
              "      <td>4327</td>\n",
              "      <td>578</td>\n",
              "      <td>1</td>\n",
              "      <td>0</td>\n",
              "      <td>0</td>\n",
              "      <td>1</td>\n",
              "      <td>2013</td>\n",
              "      <td>1</td>\n",
              "      <td>3</td>\n",
              "      <td>1</td>\n",
              "      <td>7.486159</td>\n",
              "    </tr>\n",
              "    <tr>\n",
              "      <th>2013-01-04</th>\n",
              "      <td>1</td>\n",
              "      <td>5</td>\n",
              "      <td>4486</td>\n",
              "      <td>619</td>\n",
              "      <td>1</td>\n",
              "      <td>0</td>\n",
              "      <td>0</td>\n",
              "      <td>1</td>\n",
              "      <td>2013</td>\n",
              "      <td>1</td>\n",
              "      <td>4</td>\n",
              "      <td>1</td>\n",
              "      <td>7.247173</td>\n",
              "    </tr>\n",
              "    <tr>\n",
              "      <th>2013-01-05</th>\n",
              "      <td>1</td>\n",
              "      <td>6</td>\n",
              "      <td>4997</td>\n",
              "      <td>635</td>\n",
              "      <td>1</td>\n",
              "      <td>0</td>\n",
              "      <td>0</td>\n",
              "      <td>1</td>\n",
              "      <td>2013</td>\n",
              "      <td>1</td>\n",
              "      <td>5</td>\n",
              "      <td>1</td>\n",
              "      <td>7.869291</td>\n",
              "    </tr>\n",
              "    <tr>\n",
              "      <th>2013-01-07</th>\n",
              "      <td>1</td>\n",
              "      <td>1</td>\n",
              "      <td>7176</td>\n",
              "      <td>785</td>\n",
              "      <td>1</td>\n",
              "      <td>1</td>\n",
              "      <td>0</td>\n",
              "      <td>1</td>\n",
              "      <td>2013</td>\n",
              "      <td>1</td>\n",
              "      <td>7</td>\n",
              "      <td>2</td>\n",
              "      <td>9.141401</td>\n",
              "    </tr>\n",
              "  </tbody>\n",
              "</table>\n",
              "</div>"
            ],
            "text/plain": [
              "            Store  DayOfWeek  Sales  ...  Day  WeekOfYear  SalePerCustomer\n",
              "Date                                 ...                                  \n",
              "2013-01-02      1          3   5530  ...    2           1         8.278443\n",
              "2013-01-03      1          4   4327  ...    3           1         7.486159\n",
              "2013-01-04      1          5   4486  ...    4           1         7.247173\n",
              "2013-01-05      1          6   4997  ...    5           1         7.869291\n",
              "2013-01-07      1          1   7176  ...    7           2         9.141401\n",
              "\n",
              "[5 rows x 13 columns]"
            ]
          },
          "metadata": {
            "tags": []
          },
          "execution_count": 5
        }
      ]
    },
    {
      "cell_type": "code",
      "metadata": {
        "id": "G4DsNk5zeECP",
        "colab_type": "code",
        "colab": {}
      },
      "source": [
        "# train_data_X = train_data[['Month', 'Day', 'WeekOfYear','DayOfWeek' , 'Open', 'Promo', 'StateHoliday', 'SchoolHoliday', 'SalePerCustomer']]\n",
        "train_data_X = train_data[['Month', 'Day', 'WeekOfYear','DayOfWeek' , 'Open', 'Promo', 'StateHoliday', 'SchoolHoliday']]"
      ],
      "execution_count": 0,
      "outputs": []
    },
    {
      "cell_type": "code",
      "metadata": {
        "id": "SAONSzM_eECT",
        "colab_type": "code",
        "colab": {}
      },
      "source": [
        "train_data_y = train_data[['Sales']]"
      ],
      "execution_count": 0,
      "outputs": []
    },
    {
      "cell_type": "code",
      "metadata": {
        "id": "fTC61BcfeECW",
        "colab_type": "code",
        "outputId": "2d6d9576-27ca-4974-eb52-a0f245795b8f",
        "colab": {
          "base_uri": "https://localhost:8080/",
          "height": 35
        }
      },
      "source": [
        "#Creating train test split\n",
        "# X_train = train_data_X.head(730)\n",
        "# X_test = train_data_X.tail(50)\n",
        "# y_train = train_data_y.head(730)\n",
        "# y_test = train_data_y.tail(50)\n",
        "\n",
        "number_of_test_data = 50\n",
        "number_of_holdout_data = 50\n",
        "number_of_training_data = len(train_data) - number_of_holdout_data - number_of_test_data\n",
        "print (\"total, train, test, holdout:\", len(train_data), number_of_training_data, number_of_test_data, number_of_holdout_data)"
      ],
      "execution_count": 8,
      "outputs": [
        {
          "output_type": "stream",
          "text": [
            "total, train, test, holdout: 781 681 50 50\n"
          ],
          "name": "stdout"
        }
      ]
    },
    {
      "cell_type": "code",
      "metadata": {
        "id": "kZhLMcjkeECa",
        "colab_type": "code",
        "outputId": "6d916c00-1738-4cd4-f1f5-189214917b1e",
        "colab": {
          "base_uri": "https://localhost:8080/",
          "height": 233
        }
      },
      "source": [
        "datatrain = train_data[:number_of_training_data]\n",
        "datatest = train_data[-(number_of_test_data+number_of_holdout_data):-number_of_holdout_data]\n",
        "datahold = train_data[-number_of_holdout_data:]\n",
        "datatrain.head()"
      ],
      "execution_count": 9,
      "outputs": [
        {
          "output_type": "execute_result",
          "data": {
            "text/html": [
              "<div>\n",
              "<style scoped>\n",
              "    .dataframe tbody tr th:only-of-type {\n",
              "        vertical-align: middle;\n",
              "    }\n",
              "\n",
              "    .dataframe tbody tr th {\n",
              "        vertical-align: top;\n",
              "    }\n",
              "\n",
              "    .dataframe thead th {\n",
              "        text-align: right;\n",
              "    }\n",
              "</style>\n",
              "<table border=\"1\" class=\"dataframe\">\n",
              "  <thead>\n",
              "    <tr style=\"text-align: right;\">\n",
              "      <th></th>\n",
              "      <th>Store</th>\n",
              "      <th>DayOfWeek</th>\n",
              "      <th>Sales</th>\n",
              "      <th>Customers</th>\n",
              "      <th>Open</th>\n",
              "      <th>Promo</th>\n",
              "      <th>StateHoliday</th>\n",
              "      <th>SchoolHoliday</th>\n",
              "      <th>Year</th>\n",
              "      <th>Month</th>\n",
              "      <th>Day</th>\n",
              "      <th>WeekOfYear</th>\n",
              "      <th>SalePerCustomer</th>\n",
              "    </tr>\n",
              "    <tr>\n",
              "      <th>Date</th>\n",
              "      <th></th>\n",
              "      <th></th>\n",
              "      <th></th>\n",
              "      <th></th>\n",
              "      <th></th>\n",
              "      <th></th>\n",
              "      <th></th>\n",
              "      <th></th>\n",
              "      <th></th>\n",
              "      <th></th>\n",
              "      <th></th>\n",
              "      <th></th>\n",
              "      <th></th>\n",
              "    </tr>\n",
              "  </thead>\n",
              "  <tbody>\n",
              "    <tr>\n",
              "      <th>2013-01-02</th>\n",
              "      <td>1</td>\n",
              "      <td>3</td>\n",
              "      <td>5530</td>\n",
              "      <td>668</td>\n",
              "      <td>1</td>\n",
              "      <td>0</td>\n",
              "      <td>0</td>\n",
              "      <td>1</td>\n",
              "      <td>2013</td>\n",
              "      <td>1</td>\n",
              "      <td>2</td>\n",
              "      <td>1</td>\n",
              "      <td>8.278443</td>\n",
              "    </tr>\n",
              "    <tr>\n",
              "      <th>2013-01-03</th>\n",
              "      <td>1</td>\n",
              "      <td>4</td>\n",
              "      <td>4327</td>\n",
              "      <td>578</td>\n",
              "      <td>1</td>\n",
              "      <td>0</td>\n",
              "      <td>0</td>\n",
              "      <td>1</td>\n",
              "      <td>2013</td>\n",
              "      <td>1</td>\n",
              "      <td>3</td>\n",
              "      <td>1</td>\n",
              "      <td>7.486159</td>\n",
              "    </tr>\n",
              "    <tr>\n",
              "      <th>2013-01-04</th>\n",
              "      <td>1</td>\n",
              "      <td>5</td>\n",
              "      <td>4486</td>\n",
              "      <td>619</td>\n",
              "      <td>1</td>\n",
              "      <td>0</td>\n",
              "      <td>0</td>\n",
              "      <td>1</td>\n",
              "      <td>2013</td>\n",
              "      <td>1</td>\n",
              "      <td>4</td>\n",
              "      <td>1</td>\n",
              "      <td>7.247173</td>\n",
              "    </tr>\n",
              "    <tr>\n",
              "      <th>2013-01-05</th>\n",
              "      <td>1</td>\n",
              "      <td>6</td>\n",
              "      <td>4997</td>\n",
              "      <td>635</td>\n",
              "      <td>1</td>\n",
              "      <td>0</td>\n",
              "      <td>0</td>\n",
              "      <td>1</td>\n",
              "      <td>2013</td>\n",
              "      <td>1</td>\n",
              "      <td>5</td>\n",
              "      <td>1</td>\n",
              "      <td>7.869291</td>\n",
              "    </tr>\n",
              "    <tr>\n",
              "      <th>2013-01-07</th>\n",
              "      <td>1</td>\n",
              "      <td>1</td>\n",
              "      <td>7176</td>\n",
              "      <td>785</td>\n",
              "      <td>1</td>\n",
              "      <td>1</td>\n",
              "      <td>0</td>\n",
              "      <td>1</td>\n",
              "      <td>2013</td>\n",
              "      <td>1</td>\n",
              "      <td>7</td>\n",
              "      <td>2</td>\n",
              "      <td>9.141401</td>\n",
              "    </tr>\n",
              "  </tbody>\n",
              "</table>\n",
              "</div>"
            ],
            "text/plain": [
              "            Store  DayOfWeek  Sales  ...  Day  WeekOfYear  SalePerCustomer\n",
              "Date                                 ...                                  \n",
              "2013-01-02      1          3   5530  ...    2           1         8.278443\n",
              "2013-01-03      1          4   4327  ...    3           1         7.486159\n",
              "2013-01-04      1          5   4486  ...    4           1         7.247173\n",
              "2013-01-05      1          6   4997  ...    5           1         7.869291\n",
              "2013-01-07      1          1   7176  ...    7           2         9.141401\n",
              "\n",
              "[5 rows x 13 columns]"
            ]
          },
          "metadata": {
            "tags": []
          },
          "execution_count": 9
        }
      ]
    },
    {
      "cell_type": "code",
      "metadata": {
        "id": "Tc6uErePeECi",
        "colab_type": "code",
        "colab": {}
      },
      "source": [
        "#Preparing Train,Test,Validation data for TimeSeriesGenerator\n",
        "in_seq1 = array(datatrain['Month'])\n",
        "in_seq2 = array(datatrain['Day'])\n",
        "in_seq3 = array(datatrain['WeekOfYear'])\n",
        "in_seq4 = array(datatrain['DayOfWeek'])\n",
        "in_seq5 = array(datatrain['Open'])\n",
        "in_seq6 = array(datatrain['Promo'])\n",
        "in_seq7 = array(datatrain['StateHoliday'])\n",
        "in_seq8 = array(datatrain['SchoolHoliday'])\n",
        "# in_seq9 = array(datatrain['SalePerCustomer'])\n",
        "\n",
        "out_seq_train = array(datatrain['Sales'])"
      ],
      "execution_count": 0,
      "outputs": []
    },
    {
      "cell_type": "code",
      "metadata": {
        "id": "KCEvOqmVeECn",
        "colab_type": "code",
        "colab": {}
      },
      "source": [
        "in_seq1 = in_seq1.reshape((len(in_seq1), 1))\n",
        "in_seq2 = in_seq2.reshape((len(in_seq2), 1))\n",
        "in_seq3 = in_seq3.reshape((len(in_seq3), 1))\n",
        "in_seq4 = in_seq4.reshape((len(in_seq4), 1))\n",
        "in_seq5 = in_seq5.reshape((len(in_seq5), 1))\n",
        "in_seq6 = in_seq6.reshape((len(in_seq6), 1))\n",
        "in_seq7 = in_seq7.reshape((len(in_seq7), 1))\n",
        "in_seq8 = in_seq8.reshape((len(in_seq8), 1))\n",
        "# in_seq9 = in_seq9.reshape((len(in_seq9), 1))\n",
        "out_seq_train = out_seq_train.reshape((len(out_seq_train), 1))\n"
      ],
      "execution_count": 0,
      "outputs": []
    },
    {
      "cell_type": "code",
      "metadata": {
        "id": "zF1DiY5ceECs",
        "colab_type": "code",
        "outputId": "45c7e185-5532-48ad-9baa-34e35dcc05a0",
        "colab": {
          "base_uri": "https://localhost:8080/",
          "height": 139
        }
      },
      "source": [
        "# datatrain_feed = hstack((in_seq1, in_seq2, in_seq3, in_seq4, in_seq5, in_seq6, in_seq7, in_seq8, in_seq9, out_seq_train))\n",
        "datatrain_feed = hstack((in_seq1, in_seq2, in_seq3, in_seq4, in_seq5, in_seq6, in_seq7, in_seq8, out_seq_train))\n",
        "datatrain_feed"
      ],
      "execution_count": 12,
      "outputs": [
        {
          "output_type": "execute_result",
          "data": {
            "text/plain": [
              "array([[1, 2, 1, ..., '0', 1, 5530],\n",
              "       [1, 3, 1, ..., '0', 1, 4327],\n",
              "       [1, 4, 1, ..., '0', 1, 4486],\n",
              "       ...,\n",
              "       [3, 27, 13, ..., '0', 0, 4005],\n",
              "       [3, 28, 13, ..., '0', 0, 5208],\n",
              "       [3, 30, 14, ..., '0', 1, 6714]], dtype=object)"
            ]
          },
          "metadata": {
            "tags": []
          },
          "execution_count": 12
        }
      ]
    },
    {
      "cell_type": "code",
      "metadata": {
        "id": "i2L9vZmBeECx",
        "colab_type": "code",
        "colab": {}
      },
      "source": [
        "in_seq1 = array(datahold['Month'])\n",
        "in_seq2 = array(datahold['Day'])\n",
        "in_seq3 = array(datahold['WeekOfYear'])\n",
        "in_seq4 = array(datahold['DayOfWeek'])\n",
        "in_seq5 = array(datahold['Open'])\n",
        "in_seq6 = array(datahold['Promo'])\n",
        "in_seq7 = array(datahold['StateHoliday'])\n",
        "in_seq8 = array(datahold['SchoolHoliday'])\n",
        "# in_seq9 = array(datahold['SalePerCustomer'])\n",
        "\n",
        "out_seq_hold = array(datahold['Sales'])"
      ],
      "execution_count": 0,
      "outputs": []
    },
    {
      "cell_type": "code",
      "metadata": {
        "id": "Mbj0C5UZeEC0",
        "colab_type": "code",
        "outputId": "bf3ea434-3cdb-4ce9-9462-05c037252e58",
        "colab": {
          "base_uri": "https://localhost:8080/",
          "height": 35
        }
      },
      "source": [
        "in_seq1 = in_seq1.reshape((len(in_seq1), 1))\n",
        "in_seq2 = in_seq2.reshape((len(in_seq2), 1))\n",
        "in_seq3 = in_seq3.reshape((len(in_seq3), 1))\n",
        "in_seq4 = in_seq4.reshape((len(in_seq4), 1))\n",
        "in_seq5 = in_seq5.reshape((len(in_seq5), 1))\n",
        "in_seq6 = in_seq6.reshape((len(in_seq6), 1))\n",
        "in_seq7 = in_seq7.reshape((len(in_seq7), 1))\n",
        "in_seq8 = in_seq8.reshape((len(in_seq8), 1))\n",
        "# in_seq9 = in_seq9.reshape((len(in_seq9), 1))\n",
        "out_seq_hold = out_seq_hold.reshape((len(out_seq_hold), 1))\n",
        "out_seq_hold.shape"
      ],
      "execution_count": 14,
      "outputs": [
        {
          "output_type": "execute_result",
          "data": {
            "text/plain": [
              "(50, 1)"
            ]
          },
          "metadata": {
            "tags": []
          },
          "execution_count": 14
        }
      ]
    },
    {
      "cell_type": "code",
      "metadata": {
        "id": "U4PWw6KFeEC3",
        "colab_type": "code",
        "colab": {}
      },
      "source": [
        "# datathold_feed = hstack((in_seq1, in_seq2, in_seq3, in_seq4, in_seq5, in_seq6, in_seq7, in_seq8, in_seq9, out_seq_hold))\n",
        "datathold_feed = hstack((in_seq1, in_seq2, in_seq3, in_seq4, in_seq5, in_seq6, in_seq7, in_seq8, out_seq_hold))\n",
        "datathold_feed"
      ],
      "execution_count": 0,
      "outputs": []
    },
    {
      "cell_type": "code",
      "metadata": {
        "id": "t57NOGkkeEC9",
        "colab_type": "code",
        "colab": {}
      },
      "source": [
        "in_seq1 = array(datatest['Month'])\n",
        "in_seq2 = array(datatest['Day'])\n",
        "in_seq3 = array(datatest['WeekOfYear'])\n",
        "in_seq4 = array(datatest['DayOfWeek'])\n",
        "in_seq5 = array(datatest['Open'])\n",
        "in_seq6 = array(datatest['Promo'])\n",
        "in_seq7 = array(datatest['StateHoliday'])\n",
        "in_seq8 = array(datatest['SchoolHoliday'])\n",
        "# in_seq9 = array(datatest['SalePerCustomer'])\n",
        "\n",
        "out_seq_test = array(datatest['Sales'])"
      ],
      "execution_count": 0,
      "outputs": []
    },
    {
      "cell_type": "code",
      "metadata": {
        "id": "mopIukOveEDD",
        "colab_type": "code",
        "outputId": "996742f8-65e6-411c-a453-fa4cda63b102",
        "colab": {
          "base_uri": "https://localhost:8080/",
          "height": 35
        }
      },
      "source": [
        "in_seq1 = in_seq1.reshape((len(in_seq1), 1))\n",
        "in_seq2 = in_seq2.reshape((len(in_seq2), 1))\n",
        "in_seq3 = in_seq3.reshape((len(in_seq3), 1))\n",
        "in_seq4 = in_seq4.reshape((len(in_seq4), 1))\n",
        "in_seq5 = in_seq5.reshape((len(in_seq5), 1))\n",
        "in_seq6 = in_seq6.reshape((len(in_seq6), 1))\n",
        "in_seq7 = in_seq7.reshape((len(in_seq7), 1))\n",
        "in_seq8 = in_seq8.reshape((len(in_seq8), 1))\n",
        "# in_seq9 = in_seq9.reshape((len(in_seq9), 1))\n",
        "out_seq_test = out_seq_hold.reshape((len(out_seq_test), 1))\n",
        "out_seq_test.shape"
      ],
      "execution_count": 17,
      "outputs": [
        {
          "output_type": "execute_result",
          "data": {
            "text/plain": [
              "(50, 1)"
            ]
          },
          "metadata": {
            "tags": []
          },
          "execution_count": 17
        }
      ]
    },
    {
      "cell_type": "code",
      "metadata": {
        "id": "ok68bNRjeEDG",
        "colab_type": "code",
        "outputId": "d7063f67-eb30-401e-8e91-18fd14b6f65c",
        "colab": {
          "base_uri": "https://localhost:8080/",
          "height": 35
        }
      },
      "source": [
        "# datatest_feed = hstack((in_seq1, in_seq2, in_seq3, in_seq4, in_seq5, in_seq6, in_seq7, in_seq8, in_seq9, out_seq_test))\n",
        "datatest_feed = hstack((in_seq1, in_seq2, in_seq3, in_seq4, in_seq5, in_seq6, in_seq7, in_seq8, out_seq_test))\n",
        "datatest_feed.shape"
      ],
      "execution_count": 18,
      "outputs": [
        {
          "output_type": "execute_result",
          "data": {
            "text/plain": [
              "(50, 9)"
            ]
          },
          "metadata": {
            "tags": []
          },
          "execution_count": 18
        }
      ]
    },
    {
      "cell_type": "code",
      "metadata": {
        "id": "CiWa7DAxeEDJ",
        "colab_type": "code",
        "colab": {}
      },
      "source": [
        "# TimeSeries Generator for Train data \n",
        "n_features = datatrain_feed.shape[1]\n",
        "n_input = 30\n",
        "generator_train = TimeseriesGenerator(datatrain_feed, out_seq_train, length=n_input, batch_size=1)\n"
      ],
      "execution_count": 0,
      "outputs": []
    },
    {
      "cell_type": "code",
      "metadata": {
        "id": "PRxMZYK7eEDM",
        "colab_type": "code",
        "colab": {}
      },
      "source": [
        "for i in range(len(generator_train)):\n",
        "    x, y = generator_train[i]\n",
        "    print('%s => %s' % (x, y))"
      ],
      "execution_count": 0,
      "outputs": []
    },
    {
      "cell_type": "code",
      "metadata": {
        "id": "cQm7csoaeEDP",
        "colab_type": "code",
        "colab": {}
      },
      "source": [
        "# TimeSeries Generator for Val data\n",
        "generator_hold = TimeseriesGenerator(datathold_feed, out_seq_hold, length=n_input, batch_size=1)"
      ],
      "execution_count": 0,
      "outputs": []
    },
    {
      "cell_type": "code",
      "metadata": {
        "id": "y3O7pOfJeEDR",
        "colab_type": "code",
        "colab": {}
      },
      "source": [
        "for i in range(len(generator_hold)):\n",
        "    x, y = generator_hold[i]\n",
        "    print('%s => %s' % (x, y))"
      ],
      "execution_count": 0,
      "outputs": []
    },
    {
      "cell_type": "code",
      "metadata": {
        "id": "-prNA7zreEDU",
        "colab_type": "code",
        "colab": {}
      },
      "source": [
        "# TimeSeries Generator for Test data\n",
        "generator_test = TimeseriesGenerator(datatest_feed, out_seq_test, length=n_input, batch_size=1)"
      ],
      "execution_count": 0,
      "outputs": []
    },
    {
      "cell_type": "code",
      "metadata": {
        "id": "f9rGFFhBeEDX",
        "colab_type": "code",
        "colab": {}
      },
      "source": [
        "for i in range(len(generator_test)):\n",
        "    x, y = generator_test[i]\n",
        "    print('%s => %s' % (x, y))"
      ],
      "execution_count": 0,
      "outputs": []
    },
    {
      "cell_type": "code",
      "metadata": {
        "id": "0Zlpw2Y8eEDb",
        "colab_type": "code",
        "outputId": "44592639-950c-433e-ed40-a0fedb7011d9",
        "colab": {
          "base_uri": "https://localhost:8080/",
          "height": 35
        }
      },
      "source": [
        "print(\"timesteps, features:\", n_input, n_features)"
      ],
      "execution_count": 24,
      "outputs": [
        {
          "output_type": "stream",
          "text": [
            "timesteps, features: 30 9\n"
          ],
          "name": "stdout"
        }
      ]
    },
    {
      "cell_type": "code",
      "metadata": {
        "id": "vpbfUDz_eEDe",
        "colab_type": "code",
        "colab": {}
      },
      "source": [
        ""
      ],
      "execution_count": 0,
      "outputs": []
    },
    {
      "cell_type": "code",
      "metadata": {
        "id": "Uv1kwn8WeEDg",
        "colab_type": "code",
        "outputId": "e1dcc8e6-9c4a-4b36-c076-4b0adbf16a00",
        "colab": {
          "base_uri": "https://localhost:8080/",
          "height": 243
        }
      },
      "source": [
        "#RNN  Model\n",
        "model = Sequential()\n",
        "\n",
        "model.add(SimpleRNN(10, activation='relu', input_shape=(n_input, n_features), return_sequences = False))\n",
        "model.add(Dense(10, activation='relu'))\n",
        "model.add(Dense(1, activation='linear'))\n",
        "\n",
        "from tensorflow.keras.losses import MAPE\n",
        "rmsprop = RMSprop(lr=0.0001)\n",
        "model.compile(optimizer=rmsprop, loss=MAPE)\n",
        "model.summary()"
      ],
      "execution_count": 38,
      "outputs": [
        {
          "output_type": "stream",
          "text": [
            "_________________________________________________________________\n",
            "Layer (type)                 Output Shape              Param #   \n",
            "=================================================================\n",
            "simple_rnn_4 (SimpleRNN)     (None, 10)                200       \n",
            "_________________________________________________________________\n",
            "dense_8 (Dense)              (None, 10)                110       \n",
            "_________________________________________________________________\n",
            "dense_9 (Dense)              (None, 1)                 11        \n",
            "=================================================================\n",
            "Total params: 321\n",
            "Trainable params: 321\n",
            "Non-trainable params: 0\n",
            "_________________________________________________________________\n"
          ],
          "name": "stdout"
        }
      ]
    },
    {
      "cell_type": "code",
      "metadata": {
        "id": "8QZ7LLdeeEDj",
        "colab_type": "code",
        "outputId": "0e24d944-3f50-4bef-e2d6-d1c3541da727",
        "colab": {
          "base_uri": "https://localhost:8080/",
          "height": 1000
        }
      },
      "source": [
        "from tensorflow.keras.callbacks import EarlyStopping\n",
        "es = EarlyStopping(monitor='val_loss', mode='max', min_delta=3,verbose=1)\n",
        "\n",
        "# score = model.fit_generator(generator_train, epochs=100, verbose=2, validation_data=generator_test, callbacks=[es])\n",
        "score = model.fit_generator(generator_train, epochs=50, verbose=2, validation_data=generator_test)"
      ],
      "execution_count": 39,
      "outputs": [
        {
          "output_type": "stream",
          "text": [
            "Epoch 1/50\n",
            " - 3s - loss: 106.9047 - val_loss: 101.9266\n",
            "Epoch 2/50\n",
            " - 2s - loss: 100.8614 - val_loss: 100.1196\n",
            "Epoch 3/50\n",
            " - 2s - loss: 99.5804 - val_loss: 98.5121\n",
            "Epoch 4/50\n",
            " - 2s - loss: 95.9947 - val_loss: 92.9426\n",
            "Epoch 5/50\n",
            " - 2s - loss: 86.4538 - val_loss: 78.5567\n",
            "Epoch 6/50\n",
            " - 2s - loss: 55.1708 - val_loss: 17.0805\n",
            "Epoch 7/50\n",
            " - 2s - loss: 15.2248 - val_loss: 11.8918\n",
            "Epoch 8/50\n",
            " - 2s - loss: 14.8175 - val_loss: 11.9205\n",
            "Epoch 9/50\n",
            " - 2s - loss: 14.6375 - val_loss: 11.4272\n",
            "Epoch 10/50\n",
            " - 2s - loss: 14.5238 - val_loss: 11.3817\n",
            "Epoch 11/50\n",
            " - 2s - loss: 14.3687 - val_loss: 11.2153\n",
            "Epoch 12/50\n",
            " - 2s - loss: 14.2543 - val_loss: 11.1062\n",
            "Epoch 13/50\n",
            " - 2s - loss: 14.0960 - val_loss: 10.8525\n",
            "Epoch 14/50\n",
            " - 2s - loss: 13.8631 - val_loss: 10.9363\n",
            "Epoch 15/50\n",
            " - 2s - loss: 13.9141 - val_loss: 10.8715\n",
            "Epoch 16/50\n",
            " - 2s - loss: 13.7230 - val_loss: 10.5127\n",
            "Epoch 17/50\n",
            " - 2s - loss: 13.6835 - val_loss: 10.8636\n",
            "Epoch 18/50\n",
            " - 2s - loss: 13.4957 - val_loss: 10.2927\n",
            "Epoch 19/50\n",
            " - 2s - loss: 13.3491 - val_loss: 11.8550\n",
            "Epoch 20/50\n",
            " - 2s - loss: 13.4280 - val_loss: 10.7911\n",
            "Epoch 21/50\n",
            " - 2s - loss: 13.3812 - val_loss: 9.7787\n",
            "Epoch 22/50\n",
            " - 2s - loss: 13.1693 - val_loss: 10.0736\n",
            "Epoch 23/50\n",
            " - 2s - loss: 13.2311 - val_loss: 9.6618\n",
            "Epoch 24/50\n",
            " - 2s - loss: 13.1375 - val_loss: 10.9449\n",
            "Epoch 25/50\n",
            " - 2s - loss: 13.0671 - val_loss: 9.4148\n",
            "Epoch 26/50\n",
            " - 2s - loss: 12.9591 - val_loss: 9.8270\n",
            "Epoch 27/50\n",
            " - 2s - loss: 12.9283 - val_loss: 9.2175\n",
            "Epoch 28/50\n",
            " - 2s - loss: 12.7249 - val_loss: 9.0997\n",
            "Epoch 29/50\n",
            " - 2s - loss: 12.7681 - val_loss: 9.7810\n",
            "Epoch 30/50\n",
            " - 2s - loss: 12.7754 - val_loss: 9.3112\n",
            "Epoch 31/50\n",
            " - 2s - loss: 12.7353 - val_loss: 9.0682\n",
            "Epoch 32/50\n",
            " - 2s - loss: 12.6833 - val_loss: 10.2407\n",
            "Epoch 33/50\n",
            " - 2s - loss: 12.5420 - val_loss: 8.9461\n",
            "Epoch 34/50\n",
            " - 2s - loss: 12.6040 - val_loss: 8.9274\n",
            "Epoch 35/50\n",
            " - 3s - loss: 12.4066 - val_loss: 10.7611\n",
            "Epoch 36/50\n",
            " - 2s - loss: 12.3978 - val_loss: 9.3890\n",
            "Epoch 37/50\n",
            " - 2s - loss: 12.4847 - val_loss: 9.2843\n",
            "Epoch 38/50\n",
            " - 2s - loss: 12.4029 - val_loss: 9.0652\n",
            "Epoch 39/50\n",
            " - 2s - loss: 12.3822 - val_loss: 9.1486\n",
            "Epoch 40/50\n",
            " - 2s - loss: 12.3510 - val_loss: 8.7792\n",
            "Epoch 41/50\n",
            " - 2s - loss: 12.3046 - val_loss: 9.3225\n",
            "Epoch 42/50\n",
            " - 2s - loss: 12.2655 - val_loss: 9.1863\n",
            "Epoch 43/50\n",
            " - 2s - loss: 12.2025 - val_loss: 8.8866\n",
            "Epoch 44/50\n",
            " - 2s - loss: 12.1822 - val_loss: 8.8140\n",
            "Epoch 45/50\n",
            " - 2s - loss: 12.1710 - val_loss: 8.8715\n",
            "Epoch 46/50\n",
            " - 2s - loss: 12.0628 - val_loss: 8.8528\n",
            "Epoch 47/50\n",
            " - 2s - loss: 12.0559 - val_loss: 9.8215\n",
            "Epoch 48/50\n",
            " - 2s - loss: 12.0972 - val_loss: 8.9152\n",
            "Epoch 49/50\n",
            " - 2s - loss: 11.9956 - val_loss: 8.9414\n",
            "Epoch 50/50\n",
            " - 2s - loss: 11.9809 - val_loss: 8.8840\n"
          ],
          "name": "stdout"
        }
      ]
    },
    {
      "cell_type": "code",
      "metadata": {
        "id": "dNtMIR2BcSWp",
        "colab_type": "code",
        "colab": {
          "base_uri": "https://localhost:8080/",
          "height": 320
        },
        "outputId": "5c6c6537-c430-412c-9c97-782cf96e1bb2"
      },
      "source": [
        "losses = score.history['loss']\n",
        "val_losses = score.history['val_loss']\n",
        "plt.figure(figsize=(10,5))\n",
        "plt.plot(losses, label=\"trainset\")\n",
        "plt.plot(val_losses, label=\"testset\")\n",
        "plt.legend(bbox_to_anchor=(1.05, 1), loc=2, borderaxespad=0.)\n",
        "plt.show()"
      ],
      "execution_count": 27,
      "outputs": [
        {
          "output_type": "display_data",
          "data": {
            "image/png": "[encoded data removed]",
            "text/plain": [
              "<Figure size 720x360 with 1 Axes>"
            ]
          },
          "metadata": {
            "tags": [],
            "needs_background": "light"
          }
        }
      ]
    },
    {
      "cell_type": "code",
      "metadata": {
        "id": "WC_vPXQMeEDr",
        "colab_type": "code",
        "colab": {}
      },
      "source": [
        "yhat = model.predict(generator_hold, verbose=2)"
      ],
      "execution_count": 0,
      "outputs": []
    },
    {
      "cell_type": "code",
      "metadata": {
        "id": "VkjeLv0teEDw",
        "colab_type": "code",
        "outputId": "dea847e4-5b5a-4eac-d414-f80e89d7c855",
        "colab": {
          "base_uri": "https://localhost:8080/",
          "height": 35
        }
      },
      "source": [
        "yhat.shape"
      ],
      "execution_count": 0,
      "outputs": [
        {
          "output_type": "execute_result",
          "data": {
            "text/plain": [
              "(49, 1)"
            ]
          },
          "metadata": {
            "tags": []
          },
          "execution_count": 200
        }
      ]
    },
    {
      "cell_type": "code",
      "metadata": {
        "id": "F-Bw8JIneED0",
        "colab_type": "code",
        "colab": {}
      },
      "source": [
        "df_result = pd.DataFrame({'Actual' : [], 'Prediction' : []})\n",
        "\n",
        "for i in range(len(generator_hold)):\n",
        "    x, y = generator_hold[i]\n",
        "    x_input = array(x).reshape((1, n_input, n_features))\n",
        "    yhat = model.predict(x_input, verbose=2)\n",
        "    df_result = df_result.append({'Actual': y[0][0], 'Prediction': yhat[0][0]}, ignore_index=True)"
      ],
      "execution_count": 0,
      "outputs": []
    },
    {
      "cell_type": "code",
      "metadata": {
        "id": "4p4kCWRCeED9",
        "colab_type": "code",
        "outputId": "c80e2a48-6edd-43f4-fb38-d44659bc825f",
        "colab": {
          "base_uri": "https://localhost:8080/",
          "height": 104
        }
      },
      "source": [
        "from math import sqrt\n",
        "from sklearn.metrics import mean_squared_error\n",
        "from sklearn.metrics import mean_absolute_error\n",
        "\n",
        "rmse_rf = sqrt(mean_squared_error(df_result.Actual, df_result.Prediction))\n",
        "MAPE= np.mean(np.abs((df_result.Actual - df_result.Prediction) / df_result.Actual)) * 100\n",
        "def MASE(training_series, testing_series, prediction_series):\n",
        "    n = training_series.shape[0]\n",
        "    d = np.abs(  np.diff( training_series) ).sum()/(n-1)\n",
        "    \n",
        "    errors = np.abs(testing_series - prediction_series )\n",
        "    return errors.mean()/d\n",
        "def smape(actual, predicted):\n",
        "    # return 100/len(test) * np.sum(2 * np.abs(pred - test) / (np.abs(test) + np.abs(pred)))\n",
        "    return np.mean(2.0 * np.abs(actual - predicted) / ((np.abs(actual) + np.abs(predicted))))\n",
        "print(\"MAPE: \",MAPE)\n",
        "print(\"MAE: \", mean_absolute_error(df_result.Actual, df_result.Prediction))\n",
        "print(\"RMSE: \",rmse_rf)\n",
        "print(\"MASE\",MASE(datatrain.Sales,df_result.Actual,df_result.Prediction))\n",
        "print(\"SMAPE\",smape(df_result.Actual,df_result.Prediction))"
      ],
      "execution_count": 43,
      "outputs": [
        {
          "output_type": "stream",
          "text": [
            "MAPE:  8.85807525573262\n",
            "MAE:  422.1322875976563\n",
            "RMSE:  636.9034002996185\n",
            "MASE 0.7241604368586652\n",
            "SMAPE 0.09428633132915828\n"
          ],
          "name": "stdout"
        }
      ]
    }
  ]
}