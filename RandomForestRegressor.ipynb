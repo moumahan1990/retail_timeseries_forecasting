{
  "nbformat": 4,
  "nbformat_minor": 0,
  "metadata": {
    "kernelspec": {
      "display_name": "Python 3",
      "language": "python",
      "name": "python3"
    },
    "language_info": {
      "codemirror_mode": {
        "name": "ipython",
        "version": 3
      },
      "file_extension": ".py",
      "mimetype": "text/x-python",
      "name": "python",
      "nbconvert_exporter": "python",
      "pygments_lexer": "ipython3",
      "version": "3.7.4"
    },
    "colab": {
      "name": "RandomForestRegressor.ipynb",
      "provenance": [],
      "include_colab_link": true
    }
  },
  "cells": [
    {
      "cell_type": "markdown",
      "metadata": {
        "id": "view-in-github",
        "colab_type": "text"
      },
      "source": [
        "<a href=\"https://colab.research.google.com/github/moumahan1990/retail_timeseries_forecasting/blob/master/RandomForestRegressor.ipynb\" target=\"_parent\"><img src=\"https://colab.research.google.com/assets/colab-badge.svg\" alt=\"Open In Colab\"/></a>"
      ]
    },
    {
      "cell_type": "code",
      "metadata": {
        "id": "QnwJ3GwyYuDi",
        "colab_type": "code",
        "outputId": "93ce1926-a76d-4bee-9147-571d55b247d6",
        "colab": {
          "base_uri": "https://localhost:8080/",
          "height": 72
        }
      },
      "source": [
        "import numpy as np\n",
        "import pandas as pd\n",
        "from pandas import datetime\n",
        "\n",
        "# data visualization\n",
        "import matplotlib.pyplot as plt\n",
        "import seaborn as sns # advanced vizs\n",
        "%matplotlib inline"
      ],
      "execution_count": 1,
      "outputs": [
        {
          "output_type": "stream",
          "text": [
            "/usr/local/lib/python3.6/dist-packages/statsmodels/tools/_testing.py:19: FutureWarning: pandas.util.testing is deprecated. Use the functions in the public API at pandas.testing instead.\n",
            "  import pandas.util.testing as tm\n"
          ],
          "name": "stderr"
        }
      ]
    },
    {
      "cell_type": "code",
      "metadata": {
        "id": "SMFerovsYuDr",
        "colab_type": "code",
        "colab": {}
      },
      "source": [
        "# importing train data to learn\n",
        "train = pd.read_csv(\"https://raw.githubusercontent.com/moumahan1990/retail_timeseries_forecasting/master/datasets/train.csv\", \n",
        "                    parse_dates = True, low_memory = False, index_col = 'Date')\n",
        "\n",
        "# additional store data\n",
        "store = pd.read_csv(\"https://raw.githubusercontent.com/moumahan1990/retail_timeseries_forecasting/master/datasets/store.csv\",low_memory = False)"
      ],
      "execution_count": 0,
      "outputs": []
    },
    {
      "cell_type": "code",
      "metadata": {
        "id": "zQC63jSMk8rR",
        "colab_type": "code",
        "colab": {
          "base_uri": "https://localhost:8080/",
          "height": 446
        },
        "outputId": "d32d1ec0-1b15-4a21-e140-def9b65ce009"
      },
      "source": [
        "train"
      ],
      "execution_count": 109,
      "outputs": [
        {
          "output_type": "execute_result",
          "data": {
            "text/html": [
              "<div>\n",
              "<style scoped>\n",
              "    .dataframe tbody tr th:only-of-type {\n",
              "        vertical-align: middle;\n",
              "    }\n",
              "\n",
              "    .dataframe tbody tr th {\n",
              "        vertical-align: top;\n",
              "    }\n",
              "\n",
              "    .dataframe thead th {\n",
              "        text-align: right;\n",
              "    }\n",
              "</style>\n",
              "<table border=\"1\" class=\"dataframe\">\n",
              "  <thead>\n",
              "    <tr style=\"text-align: right;\">\n",
              "      <th></th>\n",
              "      <th>Store</th>\n",
              "      <th>DayOfWeek</th>\n",
              "      <th>Sales</th>\n",
              "      <th>Customers</th>\n",
              "      <th>Open</th>\n",
              "      <th>Promo</th>\n",
              "      <th>StateHoliday</th>\n",
              "      <th>SchoolHoliday</th>\n",
              "    </tr>\n",
              "    <tr>\n",
              "      <th>Date</th>\n",
              "      <th></th>\n",
              "      <th></th>\n",
              "      <th></th>\n",
              "      <th></th>\n",
              "      <th></th>\n",
              "      <th></th>\n",
              "      <th></th>\n",
              "      <th></th>\n",
              "    </tr>\n",
              "  </thead>\n",
              "  <tbody>\n",
              "    <tr>\n",
              "      <th>2015-07-31</th>\n",
              "      <td>1</td>\n",
              "      <td>5</td>\n",
              "      <td>5263</td>\n",
              "      <td>555</td>\n",
              "      <td>1</td>\n",
              "      <td>1</td>\n",
              "      <td>0</td>\n",
              "      <td>1</td>\n",
              "    </tr>\n",
              "    <tr>\n",
              "      <th>2015-07-31</th>\n",
              "      <td>2</td>\n",
              "      <td>5</td>\n",
              "      <td>6064</td>\n",
              "      <td>625</td>\n",
              "      <td>1</td>\n",
              "      <td>1</td>\n",
              "      <td>0</td>\n",
              "      <td>1</td>\n",
              "    </tr>\n",
              "    <tr>\n",
              "      <th>2015-07-31</th>\n",
              "      <td>3</td>\n",
              "      <td>5</td>\n",
              "      <td>8314</td>\n",
              "      <td>821</td>\n",
              "      <td>1</td>\n",
              "      <td>1</td>\n",
              "      <td>0</td>\n",
              "      <td>1</td>\n",
              "    </tr>\n",
              "    <tr>\n",
              "      <th>2015-07-31</th>\n",
              "      <td>4</td>\n",
              "      <td>5</td>\n",
              "      <td>13995</td>\n",
              "      <td>1498</td>\n",
              "      <td>1</td>\n",
              "      <td>1</td>\n",
              "      <td>0</td>\n",
              "      <td>1</td>\n",
              "    </tr>\n",
              "    <tr>\n",
              "      <th>2015-07-31</th>\n",
              "      <td>5</td>\n",
              "      <td>5</td>\n",
              "      <td>4822</td>\n",
              "      <td>559</td>\n",
              "      <td>1</td>\n",
              "      <td>1</td>\n",
              "      <td>0</td>\n",
              "      <td>1</td>\n",
              "    </tr>\n",
              "    <tr>\n",
              "      <th>...</th>\n",
              "      <td>...</td>\n",
              "      <td>...</td>\n",
              "      <td>...</td>\n",
              "      <td>...</td>\n",
              "      <td>...</td>\n",
              "      <td>...</td>\n",
              "      <td>...</td>\n",
              "      <td>...</td>\n",
              "    </tr>\n",
              "    <tr>\n",
              "      <th>2013-01-01</th>\n",
              "      <td>1111</td>\n",
              "      <td>2</td>\n",
              "      <td>0</td>\n",
              "      <td>0</td>\n",
              "      <td>0</td>\n",
              "      <td>0</td>\n",
              "      <td>a</td>\n",
              "      <td>1</td>\n",
              "    </tr>\n",
              "    <tr>\n",
              "      <th>2013-01-01</th>\n",
              "      <td>1112</td>\n",
              "      <td>2</td>\n",
              "      <td>0</td>\n",
              "      <td>0</td>\n",
              "      <td>0</td>\n",
              "      <td>0</td>\n",
              "      <td>a</td>\n",
              "      <td>1</td>\n",
              "    </tr>\n",
              "    <tr>\n",
              "      <th>2013-01-01</th>\n",
              "      <td>1113</td>\n",
              "      <td>2</td>\n",
              "      <td>0</td>\n",
              "      <td>0</td>\n",
              "      <td>0</td>\n",
              "      <td>0</td>\n",
              "      <td>a</td>\n",
              "      <td>1</td>\n",
              "    </tr>\n",
              "    <tr>\n",
              "      <th>2013-01-01</th>\n",
              "      <td>1114</td>\n",
              "      <td>2</td>\n",
              "      <td>0</td>\n",
              "      <td>0</td>\n",
              "      <td>0</td>\n",
              "      <td>0</td>\n",
              "      <td>a</td>\n",
              "      <td>1</td>\n",
              "    </tr>\n",
              "    <tr>\n",
              "      <th>2013-01-01</th>\n",
              "      <td>1115</td>\n",
              "      <td>2</td>\n",
              "      <td>0</td>\n",
              "      <td>0</td>\n",
              "      <td>0</td>\n",
              "      <td>0</td>\n",
              "      <td>a</td>\n",
              "      <td>1</td>\n",
              "    </tr>\n",
              "  </tbody>\n",
              "</table>\n",
              "<p>1017209 rows × 8 columns</p>\n",
              "</div>"
            ],
            "text/plain": [
              "            Store  DayOfWeek  Sales  ...  Promo  StateHoliday  SchoolHoliday\n",
              "Date                                 ...                                    \n",
              "2015-07-31      1          5   5263  ...      1             0              1\n",
              "2015-07-31      2          5   6064  ...      1             0              1\n",
              "2015-07-31      3          5   8314  ...      1             0              1\n",
              "2015-07-31      4          5  13995  ...      1             0              1\n",
              "2015-07-31      5          5   4822  ...      1             0              1\n",
              "...           ...        ...    ...  ...    ...           ...            ...\n",
              "2013-01-01   1111          2      0  ...      0             a              1\n",
              "2013-01-01   1112          2      0  ...      0             a              1\n",
              "2013-01-01   1113          2      0  ...      0             a              1\n",
              "2013-01-01   1114          2      0  ...      0             a              1\n",
              "2013-01-01   1115          2      0  ...      0             a              1\n",
              "\n",
              "[1017209 rows x 8 columns]"
            ]
          },
          "metadata": {
            "tags": []
          },
          "execution_count": 109
        }
      ]
    },
    {
      "cell_type": "code",
      "metadata": {
        "id": "9TkQAUuWYuDy",
        "colab_type": "code",
        "colab": {}
      },
      "source": [
        "# data extraction\n",
        "train['Year'] = train.index.year\n",
        "train['Month'] = train.index.month\n",
        "train['Day'] = train.index.day\n",
        "train['WeekOfYear'] = train.index.weekofyear\n",
        "\n",
        "# adding new variable\n",
        "train['SalePerCustomer'] = train['Sales']/train['Customers']"
      ],
      "execution_count": 0,
      "outputs": []
    },
    {
      "cell_type": "code",
      "metadata": {
        "id": "yrLJoTNLYuD4",
        "colab_type": "code",
        "colab": {}
      },
      "source": [
        "# Filter only Store 1 date of Type C for now\n",
        "train_data = train[train.Store == 1]\n",
        "#Remove opened stores with zero sales\n",
        "train_data = train_data[(train_data[\"Open\"] != 0) & (train_data['Sales'] != 0)]"
      ],
      "execution_count": 0,
      "outputs": []
    },
    {
      "cell_type": "code",
      "metadata": {
        "id": "3S2rhq3yYuD_",
        "colab_type": "code",
        "outputId": "05a99da4-b06f-47f5-e08e-44d77045d90c",
        "colab": {
          "base_uri": "https://localhost:8080/",
          "height": 233
        }
      },
      "source": [
        "train_data=train_data.sort_index()\n",
        "train_data=train_data.fillna(0)\n",
        "train_data.head()"
      ],
      "execution_count": 37,
      "outputs": [
        {
          "output_type": "execute_result",
          "data": {
            "text/html": [
              "<div>\n",
              "<style scoped>\n",
              "    .dataframe tbody tr th:only-of-type {\n",
              "        vertical-align: middle;\n",
              "    }\n",
              "\n",
              "    .dataframe tbody tr th {\n",
              "        vertical-align: top;\n",
              "    }\n",
              "\n",
              "    .dataframe thead th {\n",
              "        text-align: right;\n",
              "    }\n",
              "</style>\n",
              "<table border=\"1\" class=\"dataframe\">\n",
              "  <thead>\n",
              "    <tr style=\"text-align: right;\">\n",
              "      <th></th>\n",
              "      <th>Store</th>\n",
              "      <th>DayOfWeek</th>\n",
              "      <th>Sales</th>\n",
              "      <th>Customers</th>\n",
              "      <th>Open</th>\n",
              "      <th>Promo</th>\n",
              "      <th>StateHoliday</th>\n",
              "      <th>SchoolHoliday</th>\n",
              "      <th>Year</th>\n",
              "      <th>Month</th>\n",
              "      <th>Day</th>\n",
              "      <th>WeekOfYear</th>\n",
              "      <th>SalePerCustomer</th>\n",
              "    </tr>\n",
              "    <tr>\n",
              "      <th>Date</th>\n",
              "      <th></th>\n",
              "      <th></th>\n",
              "      <th></th>\n",
              "      <th></th>\n",
              "      <th></th>\n",
              "      <th></th>\n",
              "      <th></th>\n",
              "      <th></th>\n",
              "      <th></th>\n",
              "      <th></th>\n",
              "      <th></th>\n",
              "      <th></th>\n",
              "      <th></th>\n",
              "    </tr>\n",
              "  </thead>\n",
              "  <tbody>\n",
              "    <tr>\n",
              "      <th>2013-01-02</th>\n",
              "      <td>1</td>\n",
              "      <td>3</td>\n",
              "      <td>5530</td>\n",
              "      <td>668</td>\n",
              "      <td>1</td>\n",
              "      <td>0</td>\n",
              "      <td>0</td>\n",
              "      <td>1</td>\n",
              "      <td>2013</td>\n",
              "      <td>1</td>\n",
              "      <td>2</td>\n",
              "      <td>1</td>\n",
              "      <td>8.278443</td>\n",
              "    </tr>\n",
              "    <tr>\n",
              "      <th>2013-01-03</th>\n",
              "      <td>1</td>\n",
              "      <td>4</td>\n",
              "      <td>4327</td>\n",
              "      <td>578</td>\n",
              "      <td>1</td>\n",
              "      <td>0</td>\n",
              "      <td>0</td>\n",
              "      <td>1</td>\n",
              "      <td>2013</td>\n",
              "      <td>1</td>\n",
              "      <td>3</td>\n",
              "      <td>1</td>\n",
              "      <td>7.486159</td>\n",
              "    </tr>\n",
              "    <tr>\n",
              "      <th>2013-01-04</th>\n",
              "      <td>1</td>\n",
              "      <td>5</td>\n",
              "      <td>4486</td>\n",
              "      <td>619</td>\n",
              "      <td>1</td>\n",
              "      <td>0</td>\n",
              "      <td>0</td>\n",
              "      <td>1</td>\n",
              "      <td>2013</td>\n",
              "      <td>1</td>\n",
              "      <td>4</td>\n",
              "      <td>1</td>\n",
              "      <td>7.247173</td>\n",
              "    </tr>\n",
              "    <tr>\n",
              "      <th>2013-01-05</th>\n",
              "      <td>1</td>\n",
              "      <td>6</td>\n",
              "      <td>4997</td>\n",
              "      <td>635</td>\n",
              "      <td>1</td>\n",
              "      <td>0</td>\n",
              "      <td>0</td>\n",
              "      <td>1</td>\n",
              "      <td>2013</td>\n",
              "      <td>1</td>\n",
              "      <td>5</td>\n",
              "      <td>1</td>\n",
              "      <td>7.869291</td>\n",
              "    </tr>\n",
              "    <tr>\n",
              "      <th>2013-01-07</th>\n",
              "      <td>1</td>\n",
              "      <td>1</td>\n",
              "      <td>7176</td>\n",
              "      <td>785</td>\n",
              "      <td>1</td>\n",
              "      <td>1</td>\n",
              "      <td>0</td>\n",
              "      <td>1</td>\n",
              "      <td>2013</td>\n",
              "      <td>1</td>\n",
              "      <td>7</td>\n",
              "      <td>2</td>\n",
              "      <td>9.141401</td>\n",
              "    </tr>\n",
              "  </tbody>\n",
              "</table>\n",
              "</div>"
            ],
            "text/plain": [
              "            Store  DayOfWeek  Sales  ...  Day  WeekOfYear  SalePerCustomer\n",
              "Date                                 ...                                  \n",
              "2013-01-02      1          3   5530  ...    2           1         8.278443\n",
              "2013-01-03      1          4   4327  ...    3           1         7.486159\n",
              "2013-01-04      1          5   4486  ...    4           1         7.247173\n",
              "2013-01-05      1          6   4997  ...    5           1         7.869291\n",
              "2013-01-07      1          1   7176  ...    7           2         9.141401\n",
              "\n",
              "[5 rows x 13 columns]"
            ]
          },
          "metadata": {
            "tags": []
          },
          "execution_count": 37
        }
      ]
    },
    {
      "cell_type": "code",
      "metadata": {
        "id": "R7sBbaNgR4TT",
        "colab_type": "code",
        "colab": {}
      },
      "source": [
        "train_data[\"StateHoliday\"] = train_data[\"StateHoliday\"].map({0: 0, \"0\": 0, \"a\": 1, \"b\": 1, \"c\": 1})"
      ],
      "execution_count": 0,
      "outputs": []
    },
    {
      "cell_type": "code",
      "metadata": {
        "id": "3r6cmoYXYuEI",
        "colab_type": "code",
        "colab": {}
      },
      "source": [
        "# features = ['Month', 'Day', 'WeekOfYear','DayOfWeek' , 'Open', 'Promo', 'StateHoliday', 'SchoolHoliday', 'SalePerCustomer']\n",
        "features = ['Month', 'Day', 'WeekOfYear','DayOfWeek' , 'Open', 'Promo', 'StateHoliday', 'SchoolHoliday']\n",
        "train_data_X = train_data[features]"
      ],
      "execution_count": 0,
      "outputs": []
    },
    {
      "cell_type": "code",
      "metadata": {
        "id": "8QrSUEUjYuEO",
        "colab_type": "code",
        "colab": {}
      },
      "source": [
        "train_data_y = train_data[['Sales']]"
      ],
      "execution_count": 0,
      "outputs": []
    },
    {
      "cell_type": "code",
      "metadata": {
        "id": "oLca7Mw-YuEW",
        "colab_type": "code",
        "outputId": "a299de27-d3cd-47d3-e45d-dc4dd30f391c",
        "colab": {
          "base_uri": "https://localhost:8080/",
          "height": 35
        }
      },
      "source": [
        "print(\"Shape of data:\",train_data_X.shape,train_data_y.shape)"
      ],
      "execution_count": 41,
      "outputs": [
        {
          "output_type": "stream",
          "text": [
            "Shape of data: (781, 8) (781, 1)\n"
          ],
          "name": "stdout"
        }
      ]
    },
    {
      "cell_type": "code",
      "metadata": {
        "id": "v9UnaVn2YuEc",
        "colab_type": "code",
        "colab": {}
      },
      "source": [
        "#Prepare train test split\n",
        "X_train = train_data_X.head(730)\n",
        "X_test = train_data_X.tail(50)\n",
        "y_train = train_data_y.head(730)\n",
        "y_test = train_data_y.tail(50)\n",
        "\n",
        "X_train = train_data_X[300:-100]\n",
        "X_test = train_data_X.tail(50)\n",
        "y_train = train_data_y[300:-100]\n",
        "y_test = train_data_y.tail(50)"
      ],
      "execution_count": 0,
      "outputs": []
    },
    {
      "cell_type": "code",
      "metadata": {
        "id": "OkWUuohdSWh3",
        "colab_type": "code",
        "colab": {}
      },
      "source": [
        "# from sklearn.model_selection import train_test_split\n",
        "# X_train, X_test, y_train, y_test = train_test_split(train_data_X, train_data_y, test_size=0.10, random_state=10)"
      ],
      "execution_count": 0,
      "outputs": []
    },
    {
      "cell_type": "code",
      "metadata": {
        "id": "3wUUaGulYuEi",
        "colab_type": "code",
        "outputId": "34e3d18c-c1f5-41b9-9e28-dbf9c4211a77",
        "colab": {
          "base_uri": "https://localhost:8080/",
          "height": 316
        }
      },
      "source": [
        "train_data_y.hist()"
      ],
      "execution_count": 114,
      "outputs": [
        {
          "output_type": "execute_result",
          "data": {
            "text/plain": [
              "array([[<matplotlib.axes._subplots.AxesSubplot object at 0x7f6ff5433d68>]],\n",
              "      dtype=object)"
            ]
          },
          "metadata": {
            "tags": []
          },
          "execution_count": 114
        },
        {
          "output_type": "display_data",
          "data": {
            "image/png": "[encoded data removed]",
            "text/plain": [
              "<Figure size 432x288 with 1 Axes>"
            ]
          },
          "metadata": {
            "tags": [],
            "needs_background": "light"
          }
        }
      ]
    },
    {
      "cell_type": "code",
      "metadata": {
        "id": "Zp1FRt0aYuEn",
        "colab_type": "code",
        "outputId": "707e6e64-cd23-4fa5-b13b-ee081695a196",
        "colab": {
          "base_uri": "https://localhost:8080/",
          "height": 316
        }
      },
      "source": [
        "y1 = np.log1p(train_data_y)\n",
        "y1.hist()"
      ],
      "execution_count": 115,
      "outputs": [
        {
          "output_type": "execute_result",
          "data": {
            "text/plain": [
              "array([[<matplotlib.axes._subplots.AxesSubplot object at 0x7f6ff53a3550>]],\n",
              "      dtype=object)"
            ]
          },
          "metadata": {
            "tags": []
          },
          "execution_count": 115
        },
        {
          "output_type": "display_data",
          "data": {
            "image/png": "[encoded data removed]",
            "text/plain": [
              "<Figure size 432x288 with 1 Axes>"
            ]
          },
          "metadata": {
            "tags": [],
            "needs_background": "light"
          }
        }
      ]
    },
    {
      "cell_type": "code",
      "metadata": {
        "id": "oVypRitSYuEu",
        "colab_type": "code",
        "colab": {}
      },
      "source": [
        "y_train_log = np.log1p(y_train).values"
      ],
      "execution_count": 0,
      "outputs": []
    },
    {
      "cell_type": "code",
      "metadata": {
        "id": "E3NZbQmHYuE1",
        "colab_type": "code",
        "outputId": "6b62bd04-14ca-4247-a3b0-51de18d34e8f",
        "colab": {
          "base_uri": "https://localhost:8080/",
          "height": 72
        }
      },
      "source": [
        "from sklearn.ensemble import RandomForestRegressor\n",
        "\n",
        "clf_RF = RandomForestRegressor(n_estimators = 15,max_depth = 10,criterion = \"mae\")\n",
        "clf_RF.fit(X_train, y_train_log)\n",
        "# validation\n",
        "y_pred = clf_RF.predict(X_test)"
      ],
      "execution_count": 103,
      "outputs": [
        {
          "output_type": "stream",
          "text": [
            "/usr/local/lib/python3.6/dist-packages/ipykernel_launcher.py:4: DataConversionWarning: A column-vector y was passed when a 1d array was expected. Please change the shape of y to (n_samples,), for example using ravel().\n",
            "  after removing the cwd from sys.path.\n"
          ],
          "name": "stderr"
        }
      ]
    },
    {
      "cell_type": "code",
      "metadata": {
        "id": "GZt6dgOClUO_",
        "colab_type": "code",
        "outputId": "5754305e-bd6f-4045-e0cb-50a3fa570fdb",
        "colab": {
          "base_uri": "https://localhost:8080/",
          "height": 265
        }
      },
      "source": [
        "def plot_importance(model):\n",
        "    k = list(zip(features, model.feature_importances_))\n",
        "    k.sort(key=lambda tup: tup[1])\n",
        "\n",
        "    labels, vals = zip(*k)\n",
        "    \n",
        "    plt.barh(np.arange(len(features)), vals, align='center')\n",
        "    plt.yticks(np.arange(len(features)), labels)\n",
        "plot_importance(clf_RF)"
      ],
      "execution_count": 106,
      "outputs": [
        {
          "output_type": "display_data",
          "data": {
            "image/png": "[encoded data removed]",
            "text/plain": [
              "<Figure size 432x288 with 1 Axes>"
            ]
          },
          "metadata": {
            "tags": [],
            "needs_background": "light"
          }
        }
      ]
    },
    {
      "cell_type": "code",
      "metadata": {
        "id": "u4qVkFm5YuE7",
        "colab_type": "code",
        "outputId": "9cc79c64-6b30-49a6-8c2b-df42e7c3ac90",
        "colab": {
          "base_uri": "https://localhost:8080/",
          "height": 104
        }
      },
      "source": [
        "#RMSE,MAPE,MAE\n",
        "from math import sqrt\n",
        "from sklearn.metrics import mean_squared_error\n",
        "from sklearn.metrics import mean_absolute_error\n",
        "\n",
        "rmse_rf = sqrt(mean_squared_error(y_test, np.expm1(y_pred)))\n",
        "MAPE= np.mean(np.abs((y_test.Sales- np.expm1(y_pred)) / y_test.Sales)) * 100\n",
        "print(\"MAPE: \",MAPE)\n",
        "print(\"MAE: \", mean_absolute_error(y_test.Sales, np.expm1(y_pred)))\n",
        "print(\"RMSE: \",rmse_rf)\n",
        "\n",
        "def MASE(training_series, testing_series, prediction_series):\n",
        "    n = training_series.shape[0]\n",
        "    d = np.abs(  np.diff( training_series) ).sum()/(n-1)\n",
        "    \n",
        "    errors = np.abs(testing_series - prediction_series )\n",
        "    return errors.mean()/d\n",
        "def smape(actual, predicted):\n",
        "    # return 100/len(test) * np.sum(2 * np.abs(pred - test) / (np.abs(test) + np.abs(pred)))\n",
        "    return np.mean(2.0 * np.abs(actual - predicted) / ((np.abs(actual) + np.abs(predicted))))\n",
        "\n",
        "print(\"MASE\",MASE(y_train.Sales,y_test.Sales,np.expm1(y_pred)))\n",
        "print(\"SMAPE\",smape(y_test.Sales,np.expm1(y_pred)))"
      ],
      "execution_count": 105,
      "outputs": [
        {
          "output_type": "stream",
          "text": [
            "MAPE:  7.555061899428515\n",
            "MAE:  328.1955402713902\n",
            "RMSE:  421.4152957516909\n",
            "MASE 0.5616572405982889\n",
            "SMAPE 0.0727609002654073\n"
          ],
          "name": "stdout"
        }
      ]
    }
  ]
}